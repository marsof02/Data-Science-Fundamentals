{
 "cells": [
  {
   "attachments": {},
   "cell_type": "markdown",
   "metadata": {},
   "source": [
    "# Worksheet 04\n",
    "\n",
    "Name:  Maria Sofia Mercado \n",
    "\n",
    "UID: U95815408\n",
    "\n",
    "### Topics\n",
    "\n",
    "- Distance & Similarity"
   ]
  },
  {
   "cell_type": "markdown",
   "metadata": {},
   "source": [
    "### Distance & Similarity\n",
    "\n",
    "#### Part 1\n",
    "\n",
    "a) In the minkowski distance, describe what the parameters p and d are."
   ]
  },
  {
   "cell_type": "markdown",
   "metadata": {},
   "source": [
    "p is the euclidean distance (straight-line distance between two points). d is the manhattan distance (distance measured along axes at right angles)."
   ]
  },
  {
   "cell_type": "markdown",
   "metadata": {},
   "source": [
    "b) In your own words describe the difference between the Euclidean distance and the Manhattan distance."
   ]
  },
  {
   "cell_type": "markdown",
   "metadata": {},
   "source": [
    "The euclidean distance is the straight line path between two points and it's the shortest possible. The manhattan distance is the sum of all of the distances between the beginning point and the ending point."
   ]
  },
  {
   "attachments": {},
   "cell_type": "markdown",
   "metadata": {},
   "source": [
    "Consider A = (0, 0) and B = (1, 1). When:\n",
    "\n",
    "- p = 1, d(A, B) = 2\n",
    "- p = 2, d(A, B) = $\\sqrt{2} = 1.41$\n",
    "- p = 3, d(A, B) = $2^{1/3} = 1.26$\n",
    "- p = 4, d(A, B) = $2^{1/4} = 1.19$\n",
    "\n",
    "c) Describe what you think distance would look like when p is very large."
   ]
  },
  {
   "cell_type": "markdown",
   "metadata": {},
   "source": [
    "When p gets very large, the distance will get closer and closer to 1, as the limit from x to infinity of 2^(1/x) is 1."
   ]
  },
  {
   "cell_type": "markdown",
   "metadata": {},
   "source": [
    "d) Is the minkowski distance still a distance function when p < 1? Expain why / why not."
   ]
  },
  {
   "cell_type": "markdown",
   "metadata": {},
   "source": [
    "When p < 1, the minkowski distance is not a distance function anymore as it would violate the triangle inequality, which is one of the fundamental norms a distance function needs."
   ]
  },
  {
   "cell_type": "markdown",
   "metadata": {},
   "source": [
    "e) when would you use cosine similarity over the euclidan distance?"
   ]
  },
  {
   "cell_type": "markdown",
   "metadata": {},
   "source": [
    "You should use cosine similarity over euclidean distance when direction matters more than magnitude."
   ]
  },
  {
   "cell_type": "markdown",
   "metadata": {},
   "source": [
    "f) what does the jaccard distance account for that the manhattan distance doesn't?"
   ]
  },
  {
   "cell_type": "markdown",
   "metadata": {},
   "source": [
    "The jaccard distance accounts for whether an element of a set is part of the other set or not."
   ]
  },
  {
   "attachments": {},
   "cell_type": "markdown",
   "metadata": {},
   "source": [
    "#### Part 2\n",
    "\n",
    "Consider the following two sentences:"
   ]
  },
  {
   "cell_type": "code",
   "execution_count": 4,
   "metadata": {},
   "outputs": [],
   "source": [
    "s1 = \"hello my name is Alice\"  \n",
    "s2 = \"hello my name is Bob\""
   ]
  },
  {
   "cell_type": "markdown",
   "metadata": {},
   "source": [
    "using the union of words from both sentences, we can represent each sentence as a vector. Each element of the vector represents the presence or absence of the word at that index.\n",
    "\n",
    "In this example, the union of words is (\"hello\", \"my\", \"name\", \"is\", \"Alice\", \"Bob\") so we can represent the above sentences as such:"
   ]
  },
  {
   "cell_type": "code",
   "execution_count": 3,
   "metadata": {},
   "outputs": [],
   "source": [
    "v1 = [1,    1, 1,   1, 1,    0]\n",
    "#     hello my name is Alice\n",
    "v2 = [1,    1, 1,   1, 0, 1]\n",
    "#     hello my name is    Bob"
   ]
  },
  {
   "attachments": {},
   "cell_type": "markdown",
   "metadata": {},
   "source": [
    "Programmatically, we can do the following:"
   ]
  },
  {
   "cell_type": "code",
   "execution_count": 5,
   "metadata": {},
   "outputs": [
    {
     "name": "stdout",
     "output_type": "stream",
     "text": [
      "['hello', 'is', 'Alice', 'name', 'my', 'Bob']\n",
      "[1, 1, 1, 1, 1, 0]\n"
     ]
    }
   ],
   "source": [
    "corpus = [s1, s2]\n",
    "# print(corpus)\n",
    "all_words = list(set([item for x in corpus for item in x.split()]))\n",
    "print(all_words)\n",
    "v1 = [1 if x in s1 else 0 for x in all_words]\n",
    "print(v1)"
   ]
  },
  {
   "cell_type": "markdown",
   "metadata": {},
   "source": [
    "Let's add a new sentence to our corpus:"
   ]
  },
  {
   "cell_type": "code",
   "execution_count": 6,
   "metadata": {},
   "outputs": [],
   "source": [
    "s3 = \"hi my name is Claude\"\n",
    "corpus.append(s3)"
   ]
  },
  {
   "cell_type": "markdown",
   "metadata": {},
   "source": [
    "a) What is the new union of words used to represent s1, s2, and s3?"
   ]
  },
  {
   "cell_type": "code",
   "execution_count": 7,
   "metadata": {},
   "outputs": [
    {
     "name": "stdout",
     "output_type": "stream",
     "text": [
      "['hello', 'Claude', 'is', 'Alice', 'name', 'my', 'Bob', 'hi']\n"
     ]
    }
   ],
   "source": [
    "all_new_words = list(set([item for x in corpus for item in x.split()]))\n",
    "print(all_new_words)"
   ]
  },
  {
   "attachments": {},
   "cell_type": "markdown",
   "metadata": {},
   "source": [
    "b) Represent s1, s2, and s3 as vectors as above, using this new set of words."
   ]
  },
  {
   "cell_type": "code",
   "execution_count": 8,
   "metadata": {},
   "outputs": [
    {
     "name": "stdout",
     "output_type": "stream",
     "text": [
      "[1, 0, 1, 1, 1, 1, 0, 0]\n",
      "[1, 0, 1, 0, 1, 1, 1, 0]\n",
      "[0, 1, 1, 0, 1, 1, 0, 1]\n"
     ]
    }
   ],
   "source": [
    "v1 = [1 if x in s1 else 0 for x in all_new_words]\n",
    "print(v1)\n",
    "v2 = [1 if x in s2 else 0 for x in all_new_words]\n",
    "print(v2)\n",
    "v3 = [1 if x in s3 else 0 for x in all_new_words]\n",
    "print(v3)"
   ]
  },
  {
   "cell_type": "markdown",
   "metadata": {},
   "source": [
    "c) Write a function that computes the manhattan distance between two vectors. Which pair of vectors are the most similar under that distance function?"
   ]
  },
  {
   "cell_type": "code",
   "execution_count": 9,
   "metadata": {},
   "outputs": [
    {
     "name": "stdout",
     "output_type": "stream",
     "text": [
      "2\n",
      "3\n",
      "3\n"
     ]
    }
   ],
   "source": [
    "def manhattan_distance(v1,v2):\n",
    "    \"\"\"Returns total Manhattan distance between two vectors.\"\"\"\n",
    "    if len(v1) != len(v2):\n",
    "          return None\n",
    "    total_manhattan_dist = 0\n",
    "    for i in range(len(v1)-1):\n",
    "            total_manhattan_dist += abs(v1[i]-v2[i])\n",
    "    return total_manhattan_dist\n",
    "\n",
    "md1 = manhattan_distance(v1,v2)\n",
    "print(md1)\n",
    "md2 = manhattan_distance(v2,v3)\n",
    "print(md2)\n",
    "md3 = manhattan_distance(v1,v3)\n",
    "print(md3)"
   ]
  },
  {
   "cell_type": "markdown",
   "metadata": {},
   "source": [
    "Vectors 1 and 2 are the most similar under the manhattan distance function."
   ]
  },
  {
   "cell_type": "markdown",
   "metadata": {},
   "source": [
    "d) Create a matrix of all these vectors (row major) and add the following sentences in vector form:\n",
    "\n",
    "- \"hi Alice\"\n",
    "- \"hello Claude\"\n",
    "- \"Bob my name is Claude\"\n",
    "- \"hi Claude my name is Alice\"\n",
    "- \"hello Bob\""
   ]
  },
  {
   "cell_type": "code",
   "execution_count": 19,
   "metadata": {},
   "outputs": [
    {
     "name": "stdout",
     "output_type": "stream",
     "text": [
      "[['hi', 'Alice'], ['hello', 'Claude'], ['Bob', 'my', 'name', 'is', 'Claude'], ['hi', 'Claude', 'my', 'name', 'is', 'Alice'], ['hello', 'Bob']]\n"
     ]
    }
   ],
   "source": [
    "s01 = \"hi Alice\"\n",
    "s02 = \"hello Claude\"\n",
    "s03 = \"Bob my name is Claude\"\n",
    "s04 = \"hi Claude my name is Alice\"\n",
    "s05 = \"hello Bob\"\n",
    "new_corpus = [s01,s02,s03,s04,s05]\n",
    "words_new_corpus = [x.split() for x in new_corpus]\n",
    "print(words_new_corpus)"
   ]
  },
  {
   "cell_type": "markdown",
   "metadata": {},
   "source": [
    "e) How many rows and columns does this matrix have?"
   ]
  },
  {
   "cell_type": "code",
   "execution_count": 24,
   "metadata": {},
   "outputs": [
    {
     "name": "stdout",
     "output_type": "stream",
     "text": [
      "rows:  5\n",
      "columns:  1\n"
     ]
    }
   ],
   "source": [
    "print(\"rows: \", len(words_new_corpus))\n",
    "print(\"columns: \", 1)"
   ]
  },
  {
   "attachments": {},
   "cell_type": "markdown",
   "metadata": {},
   "source": [
    "f) When using the Manhattan distance, which two sentences are the most similar?"
   ]
  },
  {
   "cell_type": "code",
   "execution_count": 38,
   "metadata": {},
   "outputs": [
    {
     "name": "stdout",
     "output_type": "stream",
     "text": [
      "The most similar sentences are sentences 2 and 5, and sentences 3 and 4, when using Manhattan distance.\n",
      "[3, 6, 4, 3, 5, 5, 2, 2, 5, 7]\n"
     ]
    }
   ],
   "source": [
    "all_words_nc = list(set([item for x in words_new_corpus for item in x]))\n",
    "# union of words\n",
    "# print(all_words_nc)\n",
    "v01 = [1 if x in s01 else 0 for x in all_words_nc]\n",
    "v02 = [1 if x in s02 else 0 for x in all_words_nc]\n",
    "v03 = [1 if x in s03 else 0 for x in all_words_nc]\n",
    "v04 = [1 if x in s04 else 0 for x in all_words_nc]\n",
    "v05 = [1 if x in s05 else 0 for x in all_words_nc]\n",
    "\n",
    "vectors = [v01,v02,v03,v04,v05]\n",
    "\n",
    "mds = []\n",
    "for i in range(len(vectors)-1):\n",
    "    # to label the sentences in comparison, there are these print statements\n",
    "    # print(\"compare \",i+1)\n",
    "    for j in range(i+1,len(vectors)):\n",
    "        # print(\"with \", j+1)\n",
    "        md = manhattan_distance(vectors[i],vectors[j])\n",
    "        # print(\"md: \",md)\n",
    "        mds += [md]\n",
    "print(\"The most similar sentences are sentences 2 and 5, and sentences 3 and 4, when using Manhattan distance.\")\n",
    "print(mds)\n",
    "\n",
    "\n"
   ]
  }
 ],
 "metadata": {
  "kernelspec": {
   "display_name": "Python 3",
   "language": "python",
   "name": "python3"
  },
  "language_info": {
   "codemirror_mode": {
    "name": "ipython",
    "version": 3
   },
   "file_extension": ".py",
   "mimetype": "text/x-python",
   "name": "python",
   "nbconvert_exporter": "python",
   "pygments_lexer": "ipython3",
   "version": "3.9.16"
  },
  "orig_nbformat": 4,
  "vscode": {
   "interpreter": {
    "hash": "76ca05dc3ea24b2e3b98cdb7774adfbb40773424bf5109b477fd793f623715af"
   }
  }
 },
 "nbformat": 4,
 "nbformat_minor": 2
}
